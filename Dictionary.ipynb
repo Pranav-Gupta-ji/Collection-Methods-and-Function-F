{
 "cells": [
  {
   "cell_type": "markdown",
   "id": "f810892d-eeb8-439a-b40c-5cfd62b8e3bc",
   "metadata": {},
   "source": [
    "# Dictonary"
   ]
  },
  {
   "cell_type": "raw",
   "id": "5615ceb2-a2e5-43be-828a-23142f5e92a7",
   "metadata": {},
   "source": [
    "It can be signify as: d{} / d=dict()\n",
    "In which: {key:value,\n",
    "            k1:v1}\n",
    "Characterstics:\n",
    "1.Mutabel\n",
    "2.Ordered \n",
    "3.Unique keys \n"
   ]
  },
  {
   "cell_type": "code",
   "execution_count": 3,
   "id": "423102f8-b454-4382-93b2-d8ce5d74a88b",
   "metadata": {},
   "outputs": [
    {
     "name": "stdout",
     "output_type": "stream",
     "text": [
      "{1: 'one', 2: 'two', 3: 'three', 4: 'four'}\n"
     ]
    }
   ],
   "source": [
    "d={1:'one',2:'two',3:'three',4:'four'}\n",
    "print(d)"
   ]
  },
  {
   "cell_type": "code",
   "execution_count": 5,
   "id": "f8359473-4957-489f-8471-fd8d6516d540",
   "metadata": {},
   "outputs": [
    {
     "name": "stdout",
     "output_type": "stream",
     "text": [
      "<class 'dict'>\n"
     ]
    }
   ],
   "source": [
    "print(type(d))"
   ]
  },
  {
   "cell_type": "code",
   "execution_count": 6,
   "id": "57a3cbfd-7489-445d-b9a3-289b4ca1e9ec",
   "metadata": {},
   "outputs": [
    {
     "data": {
      "text/plain": [
       "'three'"
      ]
     },
     "execution_count": 6,
     "metadata": {},
     "output_type": "execute_result"
    }
   ],
   "source": [
    "d[3] # key is used as identifier to locate value."
   ]
  },
  {
   "cell_type": "code",
   "execution_count": 9,
   "id": "0fa42510-6371-4ca1-acd9-f4d796f9b6ae",
   "metadata": {},
   "outputs": [
    {
     "name": "stdout",
     "output_type": "stream",
     "text": [
      "{1: 'one', 2: 'two', 3: 'Thrice', 4: 'four'}\n"
     ]
    }
   ],
   "source": [
    "d[3]='Thrice' # used to update dictionary.\n",
    "print(d)"
   ]
  },
  {
   "cell_type": "code",
   "execution_count": 21,
   "id": "35226cd2-8120-4232-ae2a-77f9ac5ddb09",
   "metadata": {},
   "outputs": [
    {
     "name": "stdout",
     "output_type": "stream",
     "text": [
      "{1: 'one', 2: 'two', 3: 'three'}\n"
     ]
    }
   ],
   "source": [
    "d.update({3:'three'}) # Used to update dictionary\n",
    "print(d)"
   ]
  },
  {
   "cell_type": "code",
   "execution_count": 11,
   "id": "ebd2dcda-75f3-474b-b500-caa6e4cf0855",
   "metadata": {},
   "outputs": [
    {
     "name": "stdout",
     "output_type": "stream",
     "text": [
      "{1: 'one', 2: 'two', 3: 'Thrice', 4: 'four', 5: 'Fifth'}\n"
     ]
    }
   ],
   "source": [
    "d[5]='Fifth' # if no key is present then it will add as new element in dictionary.\n",
    "print(d)"
   ]
  },
  {
   "cell_type": "code",
   "execution_count": 13,
   "id": "3c8ac65e-f465-42b6-a845-39b6d0e44e4b",
   "metadata": {},
   "outputs": [
    {
     "name": "stdout",
     "output_type": "stream",
     "text": [
      "{1: 'one', 2: 'two', 4: 'four', 5: 'Fifth'}\n"
     ]
    }
   ],
   "source": [
    "d.pop(3) # It is used to remove third element of dictionary.\n",
    "print(d)"
   ]
  },
  {
   "cell_type": "code",
   "execution_count": 22,
   "id": "d4f7fc1c-4bf2-400a-9a44-205a61375dcf",
   "metadata": {},
   "outputs": [
    {
     "name": "stdout",
     "output_type": "stream",
     "text": [
      "{1: 'one', 2: 'two'}\n"
     ]
    }
   ],
   "source": [
    "d.popitem() # With blank (_) in popitem which bring last element.\n",
    "print(d)"
   ]
  },
  {
   "cell_type": "code",
   "execution_count": null,
   "id": "a62a366a-395b-459c-985f-0d15b68c2cb7",
   "metadata": {},
   "outputs": [],
   "source": []
  }
 ],
 "metadata": {
  "kernelspec": {
   "display_name": "Python 3 (ipykernel)",
   "language": "python",
   "name": "python3"
  },
  "language_info": {
   "codemirror_mode": {
    "name": "ipython",
    "version": 3
   },
   "file_extension": ".py",
   "mimetype": "text/x-python",
   "name": "python",
   "nbconvert_exporter": "python",
   "pygments_lexer": "ipython3",
   "version": "3.13.3"
  }
 },
 "nbformat": 4,
 "nbformat_minor": 5
}
