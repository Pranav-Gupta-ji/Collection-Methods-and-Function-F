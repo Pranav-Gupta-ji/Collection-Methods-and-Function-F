{
 "cells": [
  {
   "cell_type": "markdown",
   "id": "e1ddfa27-f141-4695-89d3-6697a0157c0a",
   "metadata": {},
   "source": [
    "## Sets"
   ]
  },
  {
   "cell_type": "raw",
   "id": "6c46aa2d-2103-49d7-9f09-4d45a94e6098",
   "metadata": {},
   "source": [
    "Characterstic of the sets:\n",
    "1.It is unique form of collection, where element does not repeated.\n",
    "2.It's element were inaccessble, means they were not repetative and assigne.\n",
    "3.It can be homogenous or heterogenous form of collection."
   ]
  },
  {
   "cell_type": "code",
   "execution_count": 1,
   "id": "162f99e0-f329-48ea-bf88-370949f5e266",
   "metadata": {},
   "outputs": [],
   "source": [
    "s={11,12,13,14,'fun',15,72,29,16,17,18,23,62,'kill',19,20,'gem'}"
   ]
  },
  {
   "cell_type": "code",
   "execution_count": 2,
   "id": "556aca48-2838-4551-b244-b77e98e8f979",
   "metadata": {},
   "outputs": [
    {
     "data": {
      "text/plain": [
       "{11, 12, 13, 14, 15, 16, 17, 18, 19, 20, 23, 29, 62, 72, 'fun', 'gem', 'kill'}"
      ]
     },
     "execution_count": 2,
     "metadata": {},
     "output_type": "execute_result"
    }
   ],
   "source": [
    "s"
   ]
  },
  {
   "cell_type": "code",
   "execution_count": 3,
   "id": "8cc4a274-05ae-4e92-b72d-816716b1eced",
   "metadata": {},
   "outputs": [
    {
     "name": "stdout",
     "output_type": "stream",
     "text": [
      "<class 'set'>\n"
     ]
    }
   ],
   "source": [
    "print(type(s))"
   ]
  },
  {
   "cell_type": "markdown",
   "id": "75d0daae-c289-4563-afd6-0d937d2e6f63",
   "metadata": {},
   "source": [
    "## Method"
   ]
  },
  {
   "cell_type": "code",
   "execution_count": 6,
   "id": "4621a6ff-ca7b-4112-86f1-2505432fe227",
   "metadata": {},
   "outputs": [
    {
     "ename": "AttributeError",
     "evalue": "'set' object has no attribute 'index'",
     "output_type": "error",
     "traceback": [
      "\u001b[31m---------------------------------------------------------------------------\u001b[39m",
      "\u001b[31mAttributeError\u001b[39m                            Traceback (most recent call last)",
      "\u001b[36mCell\u001b[39m\u001b[36m \u001b[39m\u001b[32mIn[6]\u001b[39m\u001b[32m, line 1\u001b[39m\n\u001b[32m----> \u001b[39m\u001b[32m1\u001b[39m \u001b[43ms\u001b[49m\u001b[43m.\u001b[49m\u001b[43mindex\u001b[49m[\u001b[32m5\u001b[39m]\n",
      "\u001b[31mAttributeError\u001b[39m: 'set' object has no attribute 'index'"
     ]
    }
   ],
   "source": [
    "s.index[5]"
   ]
  },
  {
   "cell_type": "code",
   "execution_count": 11,
   "id": "2490e787-d626-440a-af98-2d559b741c9c",
   "metadata": {},
   "outputs": [
    {
     "name": "stdout",
     "output_type": "stream",
     "text": [
      "{1, 2, 3, 4, 5}\n",
      "{4, 5, 6, 7, 8, 9}\n"
     ]
    }
   ],
   "source": [
    "s1={1,2,3,4,5,}\n",
    "s2={4,5,6,7,8,9,}\n",
    "print(s1)\n",
    "print(s2)"
   ]
  },
  {
   "cell_type": "code",
   "execution_count": 12,
   "id": "90b92669-6f20-4f7f-9a02-039a68011299",
   "metadata": {},
   "outputs": [
    {
     "data": {
      "text/plain": [
       "{4, 5}"
      ]
     },
     "execution_count": 12,
     "metadata": {},
     "output_type": "execute_result"
    }
   ],
   "source": [
    "s1.intersection(s2) # Intersection is used to bring out common element in both set."
   ]
  },
  {
   "cell_type": "code",
   "execution_count": 13,
   "id": "19e865ad-b9eb-4b85-a806-a4ccbbd3339d",
   "metadata": {},
   "outputs": [
    {
     "data": {
      "text/plain": [
       "{1, 2, 3, 4, 5, 6, 7, 8, 9}"
      ]
     },
     "execution_count": 13,
     "metadata": {},
     "output_type": "execute_result"
    }
   ],
   "source": [
    "s1.union(s2) # Union is used to combine both set and without repetating common elements."
   ]
  },
  {
   "cell_type": "code",
   "execution_count": 15,
   "id": "c6b7d13f-e999-4c38-aa6d-9a6f4a490251",
   "metadata": {},
   "outputs": [
    {
     "data": {
      "text/plain": [
       "{1, 2, 3}"
      ]
     },
     "execution_count": 15,
     "metadata": {},
     "output_type": "execute_result"
    }
   ],
   "source": [
    "s1.difference(s2) # Difference is used to eleminate common element of first set from third set."
   ]
  },
  {
   "cell_type": "code",
   "execution_count": null,
   "id": "533625f9-781d-403e-8c94-ddc8a2372a83",
   "metadata": {},
   "outputs": [],
   "source": []
  }
 ],
 "metadata": {
  "kernelspec": {
   "display_name": "Python 3 (ipykernel)",
   "language": "python",
   "name": "python3"
  },
  "language_info": {
   "codemirror_mode": {
    "name": "ipython",
    "version": 3
   },
   "file_extension": ".py",
   "mimetype": "text/x-python",
   "name": "python",
   "nbconvert_exporter": "python",
   "pygments_lexer": "ipython3",
   "version": "3.13.3"
  }
 },
 "nbformat": 4,
 "nbformat_minor": 5
}
