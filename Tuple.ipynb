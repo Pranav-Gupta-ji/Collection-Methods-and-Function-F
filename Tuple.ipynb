{
 "cells": [
  {
   "cell_type": "markdown",
   "id": "22a935fc-bef3-47c1-a994-f39eae85b950",
   "metadata": {},
   "source": [
    "# Tuple"
   ]
  },
  {
   "cell_type": "code",
   "execution_count": 12,
   "id": "d152e650-93d8-44d6-9aed-d264a4727613",
   "metadata": {},
   "outputs": [],
   "source": [
    "t1=(21,22,23,24,25,26,27,28,29,30)\n",
    "t2=('apple','mango','orange','pineapple','banana','berry','melon')"
   ]
  },
  {
   "cell_type": "markdown",
   "id": "e5d7c694-3ce0-4322-8599-75f386907089",
   "metadata": {},
   "source": [
    "Characterstic of tuple\n",
    "1. It is an order and immutable i.e. data cannot be assigned or deleted.\n",
    "2. it can be homogenous or heterogenous type of collection.\n",
    "3. It's indexation can be positive or negative."
   ]
  },
  {
   "cell_type": "markdown",
   "id": "579cf99b-a81c-4d17-b1e7-d9ec2e6f68d3",
   "metadata": {},
   "source": [
    "### Function"
   ]
  },
  {
   "cell_type": "code",
   "execution_count": 6,
   "id": "23c1fbe9-8bd9-4483-844f-b60cb125c28c",
   "metadata": {},
   "outputs": [
    {
     "data": {
      "text/plain": [
       "(22, 24, 26, 28)"
      ]
     },
     "execution_count": 6,
     "metadata": {},
     "output_type": "execute_result"
    }
   ],
   "source": [
    "# Slicing.\n",
    "t1[1:-1:2]"
   ]
  },
  {
   "cell_type": "code",
   "execution_count": 11,
   "id": "c42b1d58-f380-4f13-809b-fe986345ff90",
   "metadata": {},
   "outputs": [
    {
     "data": {
      "text/plain": [
       "(23, 24, 25, 26, 27, 28, 29)"
      ]
     },
     "execution_count": 11,
     "metadata": {},
     "output_type": "execute_result"
    }
   ],
   "source": [
    "t1[2:-1]"
   ]
  },
  {
   "cell_type": "code",
   "execution_count": 13,
   "id": "d46524bf-2ed2-4949-af49-011c13664015",
   "metadata": {},
   "outputs": [
    {
     "ename": "SyntaxError",
     "evalue": "cannot delete function call (4037699062.py, line 2)",
     "output_type": "error",
     "traceback": [
      "  \u001b[36mCell\u001b[39m\u001b[36m \u001b[39m\u001b[32mIn[13]\u001b[39m\u001b[32m, line 2\u001b[39m\n\u001b[31m    \u001b[39m\u001b[31mdel t2(4)\u001b[39m\n        ^\n\u001b[31mSyntaxError\u001b[39m\u001b[31m:\u001b[39m cannot delete function call\n"
     ]
    }
   ],
   "source": [
    "# deletion function\n",
    "del t2(4)   # delete function cannot be used."
   ]
  },
  {
   "cell_type": "code",
   "execution_count": 14,
   "id": "f22a73df-df08-4f01-b705-1aa3df890705",
   "metadata": {},
   "outputs": [
    {
     "ename": "TypeError",
     "evalue": "'tuple' object does not support item assignment",
     "output_type": "error",
     "traceback": [
      "\u001b[31m---------------------------------------------------------------------------\u001b[39m",
      "\u001b[31mTypeError\u001b[39m                                 Traceback (most recent call last)",
      "\u001b[36mCell\u001b[39m\u001b[36m \u001b[39m\u001b[32mIn[14]\u001b[39m\u001b[32m, line 1\u001b[39m\n\u001b[32m----> \u001b[39m\u001b[32m1\u001b[39m \u001b[43mt1\u001b[49m\u001b[43m[\u001b[49m\u001b[32;43m3\u001b[39;49m\u001b[43m]\u001b[49m=\u001b[33m'\u001b[39m\u001b[33mapple\u001b[39m\u001b[33m'\u001b[39m\n",
      "\u001b[31mTypeError\u001b[39m: 'tuple' object does not support item assignment"
     ]
    }
   ],
   "source": [
    "# Assignment : it does not support in tuple.\n",
    "t1[3]='apple'"
   ]
  },
  {
   "cell_type": "code",
   "execution_count": 15,
   "id": "8c0cc5f7-1ef0-40af-9e89-b2d654fe3747",
   "metadata": {},
   "outputs": [
    {
     "data": {
      "text/plain": [
       "(30, 29, 28, 27, 26, 25, 24, 23, 22, 21)"
      ]
     },
     "execution_count": 15,
     "metadata": {},
     "output_type": "execute_result"
    }
   ],
   "source": [
    "t1[: :-1]"
   ]
  },
  {
   "cell_type": "code",
   "execution_count": 16,
   "id": "0ef6289b-4d38-4208-bf98-af1b16673809",
   "metadata": {},
   "outputs": [
    {
     "data": {
      "text/plain": [
       "(31, 32, 31, 33, 34, 35, 31, 36, 37)"
      ]
     },
     "execution_count": 16,
     "metadata": {},
     "output_type": "execute_result"
    }
   ],
   "source": [
    "t3=(31,32,31,33,34,35,31,36,37)\n",
    "t3"
   ]
  },
  {
   "cell_type": "code",
   "execution_count": 28,
   "id": "690b9a78-3d17-43c0-8f52-4b1c24dd542c",
   "metadata": {},
   "outputs": [
    {
     "data": {
      "text/plain": [
       "[31, 31, 31, 32, 33, 34, 35, 36, 37]"
      ]
     },
     "execution_count": 28,
     "metadata": {},
     "output_type": "execute_result"
    }
   ],
   "source": [
    "sorted(t3)"
   ]
  },
  {
   "cell_type": "code",
   "execution_count": 29,
   "id": "b6c9e99f-837c-4427-b56e-85632e658d73",
   "metadata": {},
   "outputs": [
    {
     "data": {
      "text/plain": [
       "[37, 36, 35, 34, 33, 32, 31, 31, 31]"
      ]
     },
     "execution_count": 29,
     "metadata": {},
     "output_type": "execute_result"
    }
   ],
   "source": [
    "sorted(t3,reverse=True)"
   ]
  },
  {
   "cell_type": "code",
   "execution_count": 33,
   "id": "87c2896f-2bb2-4414-9df5-11fb7d24c712",
   "metadata": {},
   "outputs": [
    {
     "data": {
      "text/plain": [
       "9"
      ]
     },
     "execution_count": 33,
     "metadata": {},
     "output_type": "execute_result"
    }
   ],
   "source": [
    "len(t3)"
   ]
  },
  {
   "cell_type": "markdown",
   "id": "12376d39-78c6-4874-a683-1ee2fbef439f",
   "metadata": {},
   "source": [
    "### Methods"
   ]
  },
  {
   "cell_type": "code",
   "execution_count": 17,
   "id": "b0c11856-9ab7-4979-976d-514fe06b5ef9",
   "metadata": {},
   "outputs": [
    {
     "data": {
      "text/plain": [
       "3"
      ]
     },
     "execution_count": 17,
     "metadata": {},
     "output_type": "execute_result"
    }
   ],
   "source": [
    "t3.count(31) # to count number of repetative element."
   ]
  },
  {
   "cell_type": "code",
   "execution_count": 21,
   "id": "51e49dc8-73f7-456a-99c8-aecf2c0a6d01",
   "metadata": {},
   "outputs": [
    {
     "data": {
      "text/plain": [
       "7"
      ]
     },
     "execution_count": 21,
     "metadata": {},
     "output_type": "execute_result"
    }
   ],
   "source": [
    "t3.index(36) # used to find its position in tuple."
   ]
  },
  {
   "cell_type": "code",
   "execution_count": 30,
   "id": "337eafc8-2657-4669-be7f-6e142a5009c3",
   "metadata": {},
   "outputs": [
    {
     "ename": "AttributeError",
     "evalue": "'tuple' object has no attribute 'append'",
     "output_type": "error",
     "traceback": [
      "\u001b[31m---------------------------------------------------------------------------\u001b[39m",
      "\u001b[31mAttributeError\u001b[39m                            Traceback (most recent call last)",
      "\u001b[36mCell\u001b[39m\u001b[36m \u001b[39m\u001b[32mIn[30]\u001b[39m\u001b[32m, line 1\u001b[39m\n\u001b[32m----> \u001b[39m\u001b[32m1\u001b[39m \u001b[43mt2\u001b[49m\u001b[43m.\u001b[49m\u001b[43mappend\u001b[49m(\u001b[32m23\u001b[39m)\n",
      "\u001b[31mAttributeError\u001b[39m: 'tuple' object has no attribute 'append'"
     ]
    }
   ],
   "source": [
    "t2.append(23) # tuple does not allow append attribute to function."
   ]
  },
  {
   "cell_type": "code",
   "execution_count": 31,
   "id": "293c62b1-b3ba-4ba3-a59f-2b9f507b2d60",
   "metadata": {},
   "outputs": [
    {
     "ename": "AttributeError",
     "evalue": "'tuple' object has no attribute 'insert'",
     "output_type": "error",
     "traceback": [
      "\u001b[31m---------------------------------------------------------------------------\u001b[39m",
      "\u001b[31mAttributeError\u001b[39m                            Traceback (most recent call last)",
      "\u001b[36mCell\u001b[39m\u001b[36m \u001b[39m\u001b[32mIn[31]\u001b[39m\u001b[32m, line 1\u001b[39m\n\u001b[32m----> \u001b[39m\u001b[32m1\u001b[39m \u001b[43mt2\u001b[49m\u001b[43m.\u001b[49m\u001b[43minsert\u001b[49m(\u001b[32m2\u001b[39m,\u001b[32m35\u001b[39m)\n",
      "\u001b[31mAttributeError\u001b[39m: 'tuple' object has no attribute 'insert'"
     ]
    }
   ],
   "source": [
    "t2.insert(2,35) # tuple does not allow to operate. "
   ]
  },
  {
   "cell_type": "code",
   "execution_count": 32,
   "id": "658dfc9e-8abe-45c2-a2c1-cfb011344681",
   "metadata": {},
   "outputs": [
    {
     "ename": "AttributeError",
     "evalue": "'tuple' object has no attribute 'extend'",
     "output_type": "error",
     "traceback": [
      "\u001b[31m---------------------------------------------------------------------------\u001b[39m",
      "\u001b[31mAttributeError\u001b[39m                            Traceback (most recent call last)",
      "\u001b[36mCell\u001b[39m\u001b[36m \u001b[39m\u001b[32mIn[32]\u001b[39m\u001b[32m, line 1\u001b[39m\n\u001b[32m----> \u001b[39m\u001b[32m1\u001b[39m \u001b[43mt2\u001b[49m\u001b[43m.\u001b[49m\u001b[43mextend\u001b[49m([\u001b[32m100\u001b[39m,\u001b[32m200\u001b[39m,\u001b[32m300\u001b[39m])\n",
      "\u001b[31mAttributeError\u001b[39m: 'tuple' object has no attribute 'extend'"
     ]
    }
   ],
   "source": [
    "t2.extend([100,200,300]) # tuple does not allow to operate."
   ]
  },
  {
   "cell_type": "code",
   "execution_count": 36,
   "id": "29179e6b-4ca5-42e5-990d-439475fcedb6",
   "metadata": {},
   "outputs": [
    {
     "ename": "AttributeError",
     "evalue": "'tuple' object has no attribute 'pop'",
     "output_type": "error",
     "traceback": [
      "\u001b[31m---------------------------------------------------------------------------\u001b[39m",
      "\u001b[31mAttributeError\u001b[39m                            Traceback (most recent call last)",
      "\u001b[36mCell\u001b[39m\u001b[36m \u001b[39m\u001b[32mIn[36]\u001b[39m\u001b[32m, line 1\u001b[39m\n\u001b[32m----> \u001b[39m\u001b[32m1\u001b[39m \u001b[43mt2\u001b[49m\u001b[43m.\u001b[49m\u001b[43mpop\u001b[49m(\u001b[32m5\u001b[39m)\n",
      "\u001b[31mAttributeError\u001b[39m: 'tuple' object has no attribute 'pop'"
     ]
    }
   ],
   "source": [
    "t2.pop(5) # Pop :used to remove and return an element from collction but cannot work on Tuple.\n"
   ]
  },
  {
   "cell_type": "code",
   "execution_count": 37,
   "id": "ddba062c-6cd9-4f71-a2ef-9e55bb63d706",
   "metadata": {},
   "outputs": [
    {
     "ename": "AttributeError",
     "evalue": "'tuple' object has no attribute 'remove'",
     "output_type": "error",
     "traceback": [
      "\u001b[31m---------------------------------------------------------------------------\u001b[39m",
      "\u001b[31mAttributeError\u001b[39m                            Traceback (most recent call last)",
      "\u001b[36mCell\u001b[39m\u001b[36m \u001b[39m\u001b[32mIn[37]\u001b[39m\u001b[32m, line 1\u001b[39m\n\u001b[32m----> \u001b[39m\u001b[32m1\u001b[39m \u001b[43mt3\u001b[49m\u001b[43m.\u001b[49m\u001b[43mremove\u001b[49m(\u001b[32m31\u001b[39m)\n",
      "\u001b[31mAttributeError\u001b[39m: 'tuple' object has no attribute 'remove'"
     ]
    }
   ],
   "source": [
    "t3.remove(31) # This method does not operable in tuple."
   ]
  },
  {
   "cell_type": "code",
   "execution_count": 38,
   "id": "318a1c0c-d1d5-45e6-bb21-81e6af35167d",
   "metadata": {},
   "outputs": [
    {
     "data": {
      "text/plain": [
       "True"
      ]
     },
     "execution_count": 38,
     "metadata": {},
     "output_type": "execute_result"
    }
   ],
   "source": [
    "37 in t3"
   ]
  },
  {
   "cell_type": "code",
   "execution_count": 39,
   "id": "3224994a-edd3-4cea-a232-84427ae19219",
   "metadata": {},
   "outputs": [
    {
     "data": {
      "text/plain": [
       "False"
      ]
     },
     "execution_count": 39,
     "metadata": {},
     "output_type": "execute_result"
    }
   ],
   "source": [
    "44 in t3"
   ]
  },
  {
   "cell_type": "code",
   "execution_count": 52,
   "id": "2490e787-d626-440a-af98-2d559b741c9c",
   "metadata": {},
   "outputs": [],
   "source": []
  },
  {
   "cell_type": "code",
   "execution_count": null,
   "id": "90b92669-6f20-4f7f-9a02-039a68011299",
   "metadata": {},
   "outputs": [],
   "source": []
  },
  {
   "cell_type": "code",
   "execution_count": null,
   "id": "19e865ad-b9eb-4b85-a806-a4ccbbd3339d",
   "metadata": {},
   "outputs": [],
   "source": []
  }
 ],
 "metadata": {
  "kernelspec": {
   "display_name": "Python 3 (ipykernel)",
   "language": "python",
   "name": "python3"
  },
  "language_info": {
   "codemirror_mode": {
    "name": "ipython",
    "version": 3
   },
   "file_extension": ".py",
   "mimetype": "text/x-python",
   "name": "python",
   "nbconvert_exporter": "python",
   "pygments_lexer": "ipython3",
   "version": "3.13.3"
  }
 },
 "nbformat": 4,
 "nbformat_minor": 5
}
