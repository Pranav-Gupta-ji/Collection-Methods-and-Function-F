{
 "cells": [
  {
   "cell_type": "code",
   "execution_count": 1,
   "id": "fcee2ff9-1e54-4213-8a77-ab039d4d1b32",
   "metadata": {},
   "outputs": [
    {
     "data": {
      "text/plain": [
       "'usage of append, insert and extend as well as del, in and pop\\ncerate a separate notebook which contain all list methods with example and why used '"
      ]
     },
     "execution_count": 1,
     "metadata": {},
     "output_type": "execute_result"
    }
   ],
   "source": [
    "# assingnment\n",
    "\"\"\"usage of append, insert and extend as well as del, in and pop\n",
    "cerate a separate notebook which contain all list methods with example and why used \"\"\""
   ]
  },
  {
   "cell_type": "markdown",
   "id": "487323b1-9386-4a36-91ce-0d686f743414",
   "metadata": {},
   "source": [
    "# List"
   ]
  },
  {
   "cell_type": "raw",
   "id": "4b25d467-d638-425d-bc9b-72aef8e9fbc7",
   "metadata": {},
   "source": [
    "list characterstics:\n",
    " 1.It can be homogenous or heterogenous \n",
    " 2.It is mutable, it means data stored can be manupulated in collection\n",
    " 3.It allow 'Accessing Element\n",
    " 4.It's indexation can be positive or negative."
   ]
  },
  {
   "cell_type": "code",
   "execution_count": 58,
   "id": "7dec0c27-8882-4e1d-a478-a0cff6a4f14a",
   "metadata": {},
   "outputs": [
    {
     "name": "stdout",
     "output_type": "stream",
     "text": [
      "[12, 13, 14, 15, 16, 17, 18, 19, 20, 21, 23, 24, 25, 26, 27]\n"
     ]
    },
    {
     "data": {
      "text/plain": [
       "['apple', 'mango', 'orange', 'pineapple', 'banana', 'berry', 'melon']"
      ]
     },
     "execution_count": 58,
     "metadata": {},
     "output_type": "execute_result"
    }
   ],
   "source": [
    "k=[12,13,14,15,16,17,18,19,20,21,23,24,25,26,27]\n",
    "m=['apple', 'mango', 'orange', 'pineapple','banana', 'berry', 'melon']\n",
    "print(k)\n",
    "m"
   ]
  },
  {
   "cell_type": "code",
   "execution_count": 56,
   "id": "9c1470a0-d137-4555-b3b0-860f09bbed11",
   "metadata": {},
   "outputs": [
    {
     "data": {
      "text/plain": [
       "[12, 13, 14, 15, 16, 17, 18, 19, 20, 21, 23, 24, 25, 26, 27]"
      ]
     },
     "execution_count": 56,
     "metadata": {},
     "output_type": "execute_result"
    }
   ],
   "source": [
    "# List slicing\n",
    "#f[start:end:steps]\n",
    "'defaut sequence [: : ]=[1:1:1]'\n",
    "k[::]\n"
   ]
  },
  {
   "cell_type": "code",
   "execution_count": 61,
   "id": "aa5bbf65-277c-4b11-9105-a225b72aa13b",
   "metadata": {},
   "outputs": [
    {
     "name": "stdout",
     "output_type": "stream",
     "text": [
      "['melon', 'berry', 'banana', 'pineapple', 'orange', 'mango', 'apple']\n",
      "[27, 26, 25, 24, 23, 21, 20, 19, 18, 17, 16, 15, 14, 13, 12]\n"
     ]
    }
   ],
   "source": [
    "print(m[: :-1])\n",
    "\n",
    "print(k[: :-1])"
   ]
  },
  {
   "cell_type": "code",
   "execution_count": 46,
   "id": "8205af5f-7d33-471c-ba20-d1c692313bc1",
   "metadata": {},
   "outputs": [
    {
     "data": {
      "text/plain": [
       "['orange', 'pineapple', 'banana']"
      ]
     },
     "execution_count": 46,
     "metadata": {},
     "output_type": "execute_result"
    }
   ],
   "source": [
    "# List slicing\n",
    "print\n",
    "m[2:5]"
   ]
  },
  {
   "cell_type": "code",
   "execution_count": 47,
   "id": "9ca11f68-ba5f-41db-b561-e48ae66ccf80",
   "metadata": {},
   "outputs": [
    {
     "data": {
      "text/plain": [
       "15"
      ]
     },
     "execution_count": 47,
     "metadata": {},
     "output_type": "execute_result"
    }
   ],
   "source": [
    "len(k)"
   ]
  },
  {
   "cell_type": "code",
   "execution_count": 49,
   "id": "9f333b8d-6726-4859-a758-91abbd8dc813",
   "metadata": {},
   "outputs": [
    {
     "name": "stdout",
     "output_type": "stream",
     "text": [
      "<class 'list'>\n"
     ]
    }
   ],
   "source": [
    "print(type(m))"
   ]
  },
  {
   "cell_type": "code",
   "execution_count": 51,
   "id": "596a6a69-5e07-4c9b-b5ff-72e079e34e33",
   "metadata": {},
   "outputs": [
    {
     "name": "stdout",
     "output_type": "stream",
     "text": [
      "<class 'list'>\n"
     ]
    }
   ],
   "source": [
    "print(type(k))"
   ]
  },
  {
   "cell_type": "code",
   "execution_count": 3,
   "id": "1abe321f-13a0-48e5-b7b2-bd3a1ee25c5b",
   "metadata": {},
   "outputs": [
    {
     "name": "stdout",
     "output_type": "stream",
     "text": [
      "[10, 20, 30, 40, 50, 60, 70, 80, 90, 100]\n"
     ]
    }
   ],
   "source": [
    "l1=[10,20,30,40,50,60,70,80,90,100]\n",
    "print(l1)"
   ]
  },
  {
   "cell_type": "markdown",
   "id": "4e6e5770-bb85-4dbb-8579-aa3af16f9fe7",
   "metadata": {},
   "source": [
    "## Method"
   ]
  },
  {
   "cell_type": "markdown",
   "id": "4fe97817-e026-4a9c-9e5b-9e2bae137d30",
   "metadata": {},
   "source": [
    "#### Append "
   ]
  },
  {
   "cell_type": "code",
   "execution_count": 4,
   "id": "20486cf1-acdd-46fc-b1e9-95eb9fb048ba",
   "metadata": {},
   "outputs": [
    {
     "name": "stdout",
     "output_type": "stream",
     "text": [
      "[10, 20, 30, 40, 50, 60, 70, 80, 90, 100, 111]\n"
     ]
    }
   ],
   "source": [
    "# Append [.append()] : used to add only one element at the end.\n",
    "l1.append(111)\n",
    "print(l1)"
   ]
  },
  {
   "cell_type": "code",
   "execution_count": 5,
   "id": "53482038-168d-47d2-ad5f-be52c90567ed",
   "metadata": {},
   "outputs": [
    {
     "ename": "TypeError",
     "evalue": "list.append() takes exactly one argument (2 given)",
     "output_type": "error",
     "traceback": [
      "\u001b[31m---------------------------------------------------------------------------\u001b[39m",
      "\u001b[31mTypeError\u001b[39m                                 Traceback (most recent call last)",
      "\u001b[36mCell\u001b[39m\u001b[36m \u001b[39m\u001b[32mIn[5]\u001b[39m\u001b[32m, line 1\u001b[39m\n\u001b[32m----> \u001b[39m\u001b[32m1\u001b[39m \u001b[43ml1\u001b[49m\u001b[43m.\u001b[49m\u001b[43mappend\u001b[49m\u001b[43m(\u001b[49m\u001b[32;43m2\u001b[39;49m\u001b[43m,\u001b[49m\u001b[32;43m5\u001b[39;49m\u001b[43m)\u001b[49m  \u001b[38;5;66;03m# it can add only one element in the list\u001b[39;00m\n",
      "\u001b[31mTypeError\u001b[39m: list.append() takes exactly one argument (2 given)"
     ]
    }
   ],
   "source": [
    "l1.append(2,5)  # it can add only one element  =' one argument' in the list"
   ]
  },
  {
   "cell_type": "code",
   "execution_count": 6,
   "id": "ac302401-6b8a-43a9-adca-a9f7c4097163",
   "metadata": {},
   "outputs": [
    {
     "ename": "AttributeError",
     "evalue": "'list' object has no attribute 'apend'",
     "output_type": "error",
     "traceback": [
      "\u001b[31m---------------------------------------------------------------------------\u001b[39m",
      "\u001b[31mAttributeError\u001b[39m                            Traceback (most recent call last)",
      "\u001b[36mCell\u001b[39m\u001b[36m \u001b[39m\u001b[32mIn[6]\u001b[39m\u001b[32m, line 1\u001b[39m\n\u001b[32m----> \u001b[39m\u001b[32m1\u001b[39m \u001b[43ml1\u001b[49m\u001b[43m.\u001b[49m\u001b[43mapend\u001b[49m(\u001b[32m544\u001b[39m)\n",
      "\u001b[31mAttributeError\u001b[39m: 'list' object has no attribute 'apend'"
     ]
    }
   ],
   "source": [
    "l1.apend(544)\n",
    "# Method must have correct spelling for implementiation = correct \"attribut\""
   ]
  },
  {
   "cell_type": "code",
   "execution_count": 7,
   "id": "b8e2742e-9f00-42db-924a-9c36b4ed42d1",
   "metadata": {},
   "outputs": [
    {
     "name": "stdout",
     "output_type": "stream",
     "text": [
      "[10, 20, 30, 40, 50, 60, 70, 80, 90, 100, 111, [200, 300, 400]]\n"
     ]
    }
   ],
   "source": [
    "l1.append([200,300,400]) # Append consider a list as an single object/argument\n",
    "print(l1)"
   ]
  },
  {
   "cell_type": "markdown",
   "id": "65a1be4e-f64b-49b4-b0ff-16440293d67d",
   "metadata": {},
   "source": [
    "#### Insert"
   ]
  },
  {
   "cell_type": "code",
   "execution_count": 8,
   "id": "5d525876-62cf-4f93-8255-e546e986e881",
   "metadata": {},
   "outputs": [
    {
     "name": "stdout",
     "output_type": "stream",
     "text": [
      "[10, 20, 30, 40, 50, 233, 60, 70, 80, 90, 100, 111, [200, 300, 400]]\n"
     ]
    }
   ],
   "source": [
    "l1.insert(5,233) # [_.insert(i,a) ] in which i= indexation (location) and a= argument (may be 'element' or 'list').\n",
    "print(l1)"
   ]
  },
  {
   "cell_type": "code",
   "execution_count": 9,
   "id": "83d6dd6e-9c6f-4830-8f46-9bed517f819b",
   "metadata": {},
   "outputs": [
    {
     "name": "stdout",
     "output_type": "stream",
     "text": [
      "[10, 20, 30, 40, 50, 233, 60, [234, 345, 456, 457], 70, 80, 90, 100, 111, [200, 300, 400]]\n"
     ]
    }
   ],
   "source": [
    "l1.insert(7,[234,345,456,457])\n",
    "print(l1)"
   ]
  },
  {
   "cell_type": "code",
   "execution_count": null,
   "id": "d34071eb-4a04-43fe-b866-90212943b3ae",
   "metadata": {},
   "outputs": [],
   "source": []
  },
  {
   "cell_type": "markdown",
   "id": "012375d8-e47f-4e1f-b587-b132c6d6a7ce",
   "metadata": {},
   "source": [
    "#### Extend"
   ]
  },
  {
   "cell_type": "code",
   "execution_count": 13,
   "id": "d2d5b9a1-3067-42f5-9b1b-0a991a4ed809",
   "metadata": {},
   "outputs": [
    {
     "name": "stdout",
     "output_type": "stream",
     "text": [
      "[10, 20, 30, 40, 50, 233, 60, [234, 345, 456, 457], 70, 80, 90, 100, 111, [200, 300, 400], 1, 444]\n"
     ]
    }
   ],
   "source": [
    "# _.extend() : In which many'argument'(elements) can be included in list at the ending.\n",
    "l1.extend([1,444])\n",
    "print(l1)"
   ]
  },
  {
   "cell_type": "code",
   "execution_count": 14,
   "id": "394b4557-740e-428d-a2e3-87d259b4b19d",
   "metadata": {},
   "outputs": [
    {
     "ename": "TypeError",
     "evalue": "'int' object is not iterable",
     "output_type": "error",
     "traceback": [
      "\u001b[31m---------------------------------------------------------------------------\u001b[39m",
      "\u001b[31mTypeError\u001b[39m                                 Traceback (most recent call last)",
      "\u001b[36mCell\u001b[39m\u001b[36m \u001b[39m\u001b[32mIn[14]\u001b[39m\u001b[32m, line 1\u001b[39m\n\u001b[32m----> \u001b[39m\u001b[32m1\u001b[39m \u001b[43ml1\u001b[49m\u001b[43m.\u001b[49m\u001b[43mextend\u001b[49m\u001b[43m(\u001b[49m\u001b[32;43m124\u001b[39;49m\u001b[43m)\u001b[49m\n",
      "\u001b[31mTypeError\u001b[39m: 'int' object is not iterable"
     ]
    }
   ],
   "source": [
    "l1.extend(124) # argument must be in ( [] ) "
   ]
  },
  {
   "cell_type": "markdown",
   "id": "5cb9b5ec-4305-458e-be9f-9bb7626c096a",
   "metadata": {},
   "source": [
    "#### Pop"
   ]
  },
  {
   "cell_type": "code",
   "execution_count": 16,
   "id": "ec3c4002-1d13-435a-a89c-bb8f97be55ea",
   "metadata": {},
   "outputs": [
    {
     "data": {
      "text/plain": [
       "1"
      ]
     },
     "execution_count": 16,
     "metadata": {},
     "output_type": "execute_result"
    }
   ],
   "source": [
    "# .pop is use to bring the out the element of specific indexation.\n",
    "\n",
    "l1.pop() # blank space in ( ) signify last element of list = -1"
   ]
  },
  {
   "cell_type": "code",
   "execution_count": 17,
   "id": "348a578b-af55-450b-916d-6556c64b5fba",
   "metadata": {},
   "outputs": [
    {
     "data": {
      "text/plain": [
       "50"
      ]
     },
     "execution_count": 17,
     "metadata": {},
     "output_type": "execute_result"
    }
   ],
   "source": [
    "l1.pop(4)"
   ]
  },
  {
   "cell_type": "code",
   "execution_count": 23,
   "id": "eced2182-85ae-45f8-bdca-ec3a58490a8c",
   "metadata": {},
   "outputs": [
    {
     "data": {
      "text/plain": [
       "[200, 300, 400]"
      ]
     },
     "execution_count": 23,
     "metadata": {},
     "output_type": "execute_result"
    }
   ],
   "source": [
    "l1.pop(7)\n"
   ]
  },
  {
   "cell_type": "markdown",
   "id": "ac6142bc-b64d-4f57-bf4d-9df389c672c8",
   "metadata": {},
   "source": [
    "#### _.remove(__)"
   ]
  },
  {
   "cell_type": "code",
   "execution_count": 26,
   "id": "fe00359a-ef76-435b-a095-16d4f367523a",
   "metadata": {},
   "outputs": [
    {
     "name": "stdout",
     "output_type": "stream",
     "text": [
      "[10, 20, 30, 40, 100]\n"
     ]
    }
   ],
   "source": [
    "# .remove( _ ): insert value in () to remove from the list\n",
    "l1.remove(60)\n",
    "print(l1)"
   ]
  },
  {
   "cell_type": "code",
   "execution_count": 27,
   "id": "94f2254b-0126-4cf5-a562-d35717e1da84",
   "metadata": {},
   "outputs": [
    {
     "ename": "ValueError",
     "evalue": "list.remove(x): x not in list",
     "output_type": "error",
     "traceback": [
      "\u001b[31m---------------------------------------------------------------------------\u001b[39m",
      "\u001b[31mValueError\u001b[39m                                Traceback (most recent call last)",
      "\u001b[36mCell\u001b[39m\u001b[36m \u001b[39m\u001b[32mIn[27]\u001b[39m\u001b[32m, line 1\u001b[39m\n\u001b[32m----> \u001b[39m\u001b[32m1\u001b[39m \u001b[43ml1\u001b[49m\u001b[43m.\u001b[49m\u001b[43mremove\u001b[49m\u001b[43m(\u001b[49m\u001b[32;43m233\u001b[39;49m\u001b[43m)\u001b[49m\n\u001b[32m      2\u001b[39m \u001b[38;5;28mprint\u001b[39m(l1)\n",
      "\u001b[31mValueError\u001b[39m: list.remove(x): x not in list"
     ]
    }
   ],
   "source": [
    "l1.remove(233) # we cannot remove element which is not present in the list.\n",
    "print(l1)   "
   ]
  },
  {
   "cell_type": "markdown",
   "id": "780ee78c-c47a-4ec0-b7a2-ec05418373a1",
   "metadata": {},
   "source": [
    "## Function "
   ]
  },
  {
   "cell_type": "code",
   "execution_count": 37,
   "id": "c644dc36-eaf2-488d-a016-9c6569146fb1",
   "metadata": {},
   "outputs": [
    {
     "name": "stdout",
     "output_type": "stream",
     "text": [
      "[10, 20, 30, 40, 50, 60, 70, 80, 90, 100]\n"
     ]
    }
   ],
   "source": [
    "l1=[10,20,30,40,50,60,70,80,90,100]\n",
    "print(l1)"
   ]
  },
  {
   "cell_type": "code",
   "execution_count": 38,
   "id": "16bb78b6-2700-4f1e-a89e-aad5818cf4d9",
   "metadata": {},
   "outputs": [
    {
     "name": "stdout",
     "output_type": "stream",
     "text": [
      "[10, 20, 40, 50, 60, 70, 80, 90, 100]\n"
     ]
    }
   ],
   "source": [
    "# Deletion of element in a list.\n",
    "del l1[2]\n",
    "print(l1)"
   ]
  },
  {
   "cell_type": "code",
   "execution_count": 39,
   "id": "420da4ee-b036-4d0b-92a6-b7c15ee2a327",
   "metadata": {},
   "outputs": [
    {
     "data": {
      "text/plain": [
       "True"
      ]
     },
     "execution_count": 39,
     "metadata": {},
     "output_type": "execute_result"
    }
   ],
   "source": [
    "# Presence of the element in the list or not.\n",
    "100 in l1"
   ]
  },
  {
   "cell_type": "code",
   "execution_count": 40,
   "id": "2c09bc5f-5e93-41a7-ae62-49e0fbd5022c",
   "metadata": {},
   "outputs": [
    {
     "data": {
      "text/plain": [
       "False"
      ]
     },
     "execution_count": 40,
     "metadata": {},
     "output_type": "execute_result"
    }
   ],
   "source": [
    "66 in l1"
   ]
  },
  {
   "cell_type": "markdown",
   "id": "22a935fc-bef3-47c1-a994-f39eae85b950",
   "metadata": {},
   "source": [
    "# Tuple"
   ]
  },
  {
   "cell_type": "code",
   "execution_count": 54,
   "id": "d152e650-93d8-44d6-9aed-d264a4727613",
   "metadata": {},
   "outputs": [],
   "source": [
    "t1=(21,22,23,24,25,26,27,28,29,30)"
   ]
  },
  {
   "cell_type": "markdown",
   "id": "e5d7c694-3ce0-4322-8599-75f386907089",
   "metadata": {},
   "source": [
    "Characterstic of tuple\n",
    "1. It is an order and immutable i.e. data cannot be assigned or deleted.\n",
    "2. it can be homogenous or heterogenous type of collection.\n",
    "3. It's indexation can be positive or negative."
   ]
  },
  {
   "cell_type": "code",
   "execution_count": 55,
   "id": "23c1fbe9-8bd9-4483-844f-b60cb125c28c",
   "metadata": {},
   "outputs": [
    {
     "data": {
      "text/plain": [
       "(25, 26, 27)"
      ]
     },
     "execution_count": 55,
     "metadata": {},
     "output_type": "execute_result"
    }
   ],
   "source": [
    "# Slicing.\n",
    "t1[4:7]"
   ]
  },
  {
   "cell_type": "code",
   "execution_count": null,
   "id": "c42b1d58-f380-4f13-809b-fe986345ff90",
   "metadata": {},
   "outputs": [],
   "source": []
  },
  {
   "cell_type": "code",
   "execution_count": null,
   "id": "d46524bf-2ed2-4949-af49-011c13664015",
   "metadata": {},
   "outputs": [],
   "source": []
  },
  {
   "cell_type": "code",
   "execution_count": null,
   "id": "f22a73df-df08-4f01-b705-1aa3df890705",
   "metadata": {},
   "outputs": [],
   "source": []
  },
  {
   "cell_type": "code",
   "execution_count": null,
   "id": "8c0cc5f7-1ef0-40af-9e89-b2d654fe3747",
   "metadata": {},
   "outputs": [],
   "source": []
  },
  {
   "cell_type": "code",
   "execution_count": null,
   "id": "0ef6289b-4d38-4208-bf98-af1b16673809",
   "metadata": {},
   "outputs": [],
   "source": []
  },
  {
   "cell_type": "code",
   "execution_count": null,
   "id": "b0c11856-9ab7-4979-976d-514fe06b5ef9",
   "metadata": {},
   "outputs": [],
   "source": []
  },
  {
   "cell_type": "code",
   "execution_count": null,
   "id": "51e49dc8-73f7-456a-99c8-aecf2c0a6d01",
   "metadata": {},
   "outputs": [],
   "source": []
  }
 ],
 "metadata": {
  "kernelspec": {
   "display_name": "Python 3 (ipykernel)",
   "language": "python",
   "name": "python3"
  },
  "language_info": {
   "codemirror_mode": {
    "name": "ipython",
    "version": 3
   },
   "file_extension": ".py",
   "mimetype": "text/x-python",
   "name": "python",
   "nbconvert_exporter": "python",
   "pygments_lexer": "ipython3",
   "version": "3.13.3"
  }
 },
 "nbformat": 4,
 "nbformat_minor": 5
}
